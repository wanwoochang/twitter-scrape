{
 "cells": [
  {
   "cell_type": "code",
   "execution_count": null,
   "metadata": {},
   "outputs": [],
   "source": [
    "import os\n",
    "import datetime as dt\n",
    "import glob"
   ]
  },
  {
   "cell_type": "code",
   "execution_count": null,
   "metadata": {},
   "outputs": [],
   "source": [
    "os.chdir(r\"D:\\GitHub\\repository\\twitter\\scrape\\dump\\newyearresolution_2020istheyear_#resolutions2020\")"
   ]
  },
  {
   "cell_type": "code",
   "execution_count": null,
   "metadata": {},
   "outputs": [],
   "source": [
    "date_end = dt.datetime(2020, 1, 2)\n",
    "\n",
    "while dt.datetime.now() < date_end:\n",
    "    os.chdir(r\"D:\\GitHub\\repository\\twitter\\scrape\\dump\\newyearresolution_2020istheyear_#resolutions2020\")\n",
    "    \n",
    "    last_file = max(samples, key=os.path.getctime)\n",
    "    \n",
    "    if (datetime.datetime.now() - datetime.datetime.fromtimestamp(os.path.getctime(max(glob.iglob(\"*.json\"), key=os.path.getctime)))).seconds > 5:\n",
    "        os.chdir(r\"D:\\GitHub\\repository\\twitter\\scrape\")\n",
    "        %run -i \"scraper.py\""
   ]
  },
  {
   "cell_type": "code",
   "execution_count": null,
   "metadata": {},
   "outputs": [],
   "source": []
  }
 ],
 "metadata": {
  "kernelspec": {
   "display_name": "Python 3",
   "language": "python",
   "name": "python3"
  },
  "language_info": {
   "codemirror_mode": {
    "name": "ipython",
    "version": 3
   },
   "file_extension": ".py",
   "mimetype": "text/x-python",
   "name": "python",
   "nbconvert_exporter": "python",
   "pygments_lexer": "ipython3",
   "version": "3.7.5"
  }
 },
 "nbformat": 4,
 "nbformat_minor": 4
}
